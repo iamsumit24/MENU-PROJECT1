{
 "cells": [
  {
   "cell_type": "code",
   "execution_count": 4,
   "id": "b27576d0-c4e2-4461-9671-2a1490fc904c",
   "metadata": {},
   "outputs": [
    {
     "name": "stdout",
     "output_type": "stream",
     "text": [
      "Message sent with SID : SMf1e4376f7e14a4ddc4f2d4e2654e64ab\n"
     ]
    }
   ],
   "source": [
    "from twilio.rest import Client\n",
    "\n",
    "# Your Twilio account SID and Auth Token\n",
    "account_sid = 'ACcddacf7b0605d57eaadd37675482c7d3'\n",
    "auth_token = '3975ad2b79088bebb9f5ce760299c698'\n",
    "\n",
    "# Create a client to interact with the Twilio API\n",
    "client = Client(account_sid, auth_token)\n",
    "\n",
    "# Send a message\n",
    "message = client.messages.create(\n",
    "    body=\"Hello from Twilio !\",\n",
    "    from_='+17572084272',  # Your Twilio number\n",
    "    to='+918103803420'        # Recipient's phone number\n",
    ")\n",
    "\n",
    "print(f\"Message sent with SID : {message.sid}\")\n"
   ]
  },
  {
   "cell_type": "code",
   "execution_count": null,
   "id": "6d60bb7a-f7e1-4997-97b1-c96700d7ba59",
   "metadata": {},
   "outputs": [],
   "source": []
  }
 ],
 "metadata": {
  "kernelspec": {
   "display_name": "Python 3 (ipykernel)",
   "language": "python",
   "name": "python3"
  },
  "language_info": {
   "codemirror_mode": {
    "name": "ipython",
    "version": 3
   },
   "file_extension": ".py",
   "mimetype": "text/x-python",
   "name": "python",
   "nbconvert_exporter": "python",
   "pygments_lexer": "ipython3",
   "version": "3.12.4"
  }
 },
 "nbformat": 4,
 "nbformat_minor": 5
}
