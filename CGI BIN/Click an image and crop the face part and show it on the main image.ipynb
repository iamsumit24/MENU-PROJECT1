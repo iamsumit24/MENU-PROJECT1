{
 "cells": [
  {
   "cell_type": "code",
   "execution_count": 2,
   "id": "a9daaa3a-fb89-4dac-938e-1bd8d4ba893e",
   "metadata": {},
   "outputs": [
    {
     "ename": "ValueError",
     "evalue": "could not broadcast input array from shape (100,96,3) into shape (100,100,3)",
     "output_type": "error",
     "traceback": [
      "\u001b[1;31m---------------------------------------------------------------------------\u001b[0m",
      "\u001b[1;31mValueError\u001b[0m                                Traceback (most recent call last)",
      "Cell \u001b[1;32mIn[2], line 45\u001b[0m\n\u001b[0;32m     42\u001b[0m     cv2\u001b[38;5;241m.\u001b[39mdestroyAllWindows()\n\u001b[0;32m     44\u001b[0m \u001b[38;5;66;03m# Run the function\u001b[39;00m\n\u001b[1;32m---> 45\u001b[0m capture_and_crop_face()\n",
      "Cell \u001b[1;32mIn[2], line 31\u001b[0m, in \u001b[0;36mcapture_and_crop_face\u001b[1;34m()\u001b[0m\n\u001b[0;32m     28\u001b[0m     cropped_face \u001b[38;5;241m=\u001b[39m img[y:y\u001b[38;5;241m+\u001b[39mh, x:x\u001b[38;5;241m+\u001b[39mw]\n\u001b[0;32m     30\u001b[0m     \u001b[38;5;66;03m# Display the cropped face on the main image at a specific location\u001b[39;00m\n\u001b[1;32m---> 31\u001b[0m     img[\u001b[38;5;241m0\u001b[39m:h, \u001b[38;5;241m0\u001b[39m:w] \u001b[38;5;241m=\u001b[39m cropped_face\n\u001b[0;32m     33\u001b[0m \u001b[38;5;66;03m# Show the resulting image with the cropped face on the original\u001b[39;00m\n\u001b[0;32m     34\u001b[0m cv2\u001b[38;5;241m.\u001b[39mimshow(\u001b[38;5;124m\"\u001b[39m\u001b[38;5;124mImage with Cropped Face\u001b[39m\u001b[38;5;124m\"\u001b[39m, img)\n",
      "\u001b[1;31mValueError\u001b[0m: could not broadcast input array from shape (100,96,3) into shape (100,100,3)"
     ]
    }
   ],
   "source": [
    "import cv2\n",
    "from cvzone.FaceDetectionModule import FaceDetector\n",
    "\n",
    "def capture_and_crop_face():\n",
    "    # Initialize the camera\n",
    "    cap = cv2.VideoCapture(0)\n",
    "\n",
    "    # Initialize the face detector\n",
    "    detector = FaceDetector()\n",
    "\n",
    "    while True:\n",
    "        # Capture a frame from the webcam\n",
    "        success, img = cap.read()\n",
    "\n",
    "        if not success:\n",
    "            print(\"Failed to capture image.\")\n",
    "            break\n",
    "\n",
    "        # Detect faces in the frame\n",
    "        img, bboxs = detector.findFaces(img)\n",
    "\n",
    "        # Check if a face is detected\n",
    "        if bboxs:\n",
    "            # Get the bounding box of the first face detected\n",
    "            x, y, w, h = bboxs[0]['bbox']\n",
    "\n",
    "            # Crop the face from the main image\n",
    "            cropped_face = img[y:y+h, x:x+w]\n",
    "\n",
    "            # Display the cropped face on the main image at a specific location\n",
    "            img[0:h, 0:w] = cropped_face\n",
    "\n",
    "        # Show the resulting image with the cropped face on the original\n",
    "        cv2.imshow(\"Image with Cropped Face\", img)\n",
    "\n",
    "        # Press 'q' to quit\n",
    "        if cv2.waitKey(1) & 0xFF == ord('q'):\n",
    "            break\n",
    "\n",
    "    # Release the camera and close all windows\n",
    "    cap.release()\n",
    "    cv2.destroyAllWindows()\n",
    "\n",
    "# Run the function\n",
    "capture_and_crop_face()\n"
   ]
  },
  {
   "cell_type": "code",
   "execution_count": null,
   "id": "09a49a94-b961-4dad-b7fe-4bed45eec3c2",
   "metadata": {},
   "outputs": [],
   "source": []
  }
 ],
 "metadata": {
  "kernelspec": {
   "display_name": "Python 3 (ipykernel)",
   "language": "python",
   "name": "python3"
  },
  "language_info": {
   "codemirror_mode": {
    "name": "ipython",
    "version": 3
   },
   "file_extension": ".py",
   "mimetype": "text/x-python",
   "name": "python",
   "nbconvert_exporter": "python",
   "pygments_lexer": "ipython3",
   "version": "3.12.4"
  }
 },
 "nbformat": 4,
 "nbformat_minor": 5
}
