{
 "cells": [
  {
   "cell_type": "code",
   "execution_count": 2,
   "id": "fa81aa37-8174-436e-94ff-91906eef90f5",
   "metadata": {},
   "outputs": [
    {
     "name": "stdout",
     "output_type": "stream",
     "text": [
      "Email sent successfully!\n"
     ]
    }
   ],
   "source": [
    "import smtplib\n",
    "from email.mime.text import MIMEText\n",
    "from email.mime.multipart import MIMEMultipart\n",
    "\n",
    "# Set up the email sender, receiver, and login credentials\n",
    "sender_email = \"sumittiwari44430@gmail.com\"\n",
    "receiver_email = \"sumittiwari44440@example.com\"\n",
    "password = \"YOUR PASSWORD\"\n",
    "\n",
    "# Create the email subject and body\n",
    "subject = \"Test Email\"\n",
    "body = \"This is a test email sent from Python.\"\n",
    "\n",
    "# Set up the MIME object\n",
    "msg = MIMEMultipart()\n",
    "msg['From'] = sender_email\n",
    "msg['To'] = receiver_email\n",
    "msg['Subject'] = subject\n",
    "\n",
    "# Attach the body text to the MIME object\n",
    "msg.attach(MIMEText(body, 'plain'))\n",
    "\n",
    "# Connect to the Gmail SMTP server and send the email\n",
    "try:\n",
    "    server = smtplib.SMTP('smtp.gmail.com', 587)\n",
    "    server.starttls()\n",
    "    server.login(sender_email, password)\n",
    "    text = msg.as_string()\n",
    "    server.sendmail(sender_email, receiver_email, text)\n",
    "    print(\"Email sent successfully!\")\n",
    "except Exception as e:\n",
    "    print(f\"Failed to send email: {e}\")\n",
    "finally:\n",
    "    server.quit()\n"
   ]
  },
  {
   "cell_type": "code",
   "execution_count": null,
   "id": "2de54195-15c5-4658-9b1f-9873f8aa1b93",
   "metadata": {},
   "outputs": [],
   "source": []
  }
 ],
 "metadata": {
  "kernelspec": {
   "display_name": "Python 3 (ipykernel)",
   "language": "python",
   "name": "python3"
  },
  "language_info": {
   "codemirror_mode": {
    "name": "ipython",
    "version": 3
   },
   "file_extension": ".py",
   "mimetype": "text/x-python",
   "name": "python",
   "nbconvert_exporter": "python",
   "pygments_lexer": "ipython3",
   "version": "3.12.4"
  }
 },
 "nbformat": 4,
 "nbformat_minor": 5
}
