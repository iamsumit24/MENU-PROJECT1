{
 "cells": [
  {
   "cell_type": "code",
   "execution_count": 3,
   "id": "24b31309-eaa6-4aea-add1-3b6df6c73e61",
   "metadata": {},
   "outputs": [],
   "source": [
    "import numpy as np\n",
    "from PIL import Image\n",
    "\n",
    "# Define image dimensions and checkerboard size\n",
    "width, height = 256, 256\n",
    "checker_size = 32\n",
    "\n",
    "# Create a checkerboard pattern\n",
    "pattern = np.indices((height // checker_size, width // checker_size)).sum(axis=0) % 2\n",
    "image_data = np.kron(pattern, np.ones((checker_size, checker_size))) * 255\n",
    "\n",
    "# Convert the NumPy array to an image\n",
    "image = Image.fromarray(image_data.astype(np.uint8))\n",
    "\n",
    "# Save the image\n",
    "image.save('checkerboard_image.png')\n",
    "\n",
    "# Optionally display the image\n",
    "image.show()\n"
   ]
  },
  {
   "cell_type": "code",
   "execution_count": null,
   "id": "84b3598e-ebe8-41f7-a24a-0cf1178e3736",
   "metadata": {},
   "outputs": [],
   "source": []
  }
 ],
 "metadata": {
  "kernelspec": {
   "display_name": "Python 3 (ipykernel)",
   "language": "python",
   "name": "python3"
  },
  "language_info": {
   "codemirror_mode": {
    "name": "ipython",
    "version": 3
   },
   "file_extension": ".py",
   "mimetype": "text/x-python",
   "name": "python",
   "nbconvert_exporter": "python",
   "pygments_lexer": "ipython3",
   "version": "3.12.4"
  }
 },
 "nbformat": 4,
 "nbformat_minor": 5
}
