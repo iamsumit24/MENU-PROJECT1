{
 "cells": [
  {
   "cell_type": "code",
   "execution_count": 10,
   "id": "f8c5c8f1-926c-407e-8531-f37a36228ea4",
   "metadata": {},
   "outputs": [],
   "source": [
    "import cv2\n",
    "import numpy as np\n",
    "\n",
    "def apply_filters(image_path):\n",
    "    # Load the original image\n",
    "    img = cv2.imread(image_path)\n",
    "\n",
    "    if img is None:\n",
    "        print(\"Could not load image. Check the path.\")\n",
    "        return\n",
    "\n",
    "    # Resize the image for display convenience\n",
    "    img = cv2.resize(img, (500, 500))\n",
    "\n",
    "    # 1. Convert to Grayscale\n",
    "    gray_img = cv2.cvtColor(img, cv2.COLOR_BGR2GRAY)\n",
    "\n",
    "    # 2. Apply Gaussian Blur\n",
    "    blur_img = cv2.GaussianBlur(img, (15, 15), 0)\n",
    "\n",
    "    # 3. Apply Edge Detection (Canny)\n",
    "    edges = cv2.Canny(img, 100, 200)\n",
    "\n",
    "    # 4. Apply Sepia Filter\n",
    "    sepia_filter = np.array([[0.272, 0.534, 0.131],\n",
    "                             [0.349, 0.686, 0.168],\n",
    "                             [0.393, 0.769, 0.189]])\n",
    "    sepia_img = cv2.transform(img, sepia_filter)\n",
    "    sepia_img = np.clip(sepia_img, 0, 255).astype(np.uint8)\n",
    "\n",
    "    # 5. Sharpen the Image\n",
    "    kernel = np.array([[0, -1, 0], \n",
    "                       [-1, 5, -1], \n",
    "                       [0, -1, 0]])\n",
    "    sharpen_img = cv2.filter2D(img, -1, kernel)\n",
    "\n",
    "    # Show all the filters applied\n",
    "    cv2.imshow(\"Original Image\", img)\n",
    "    cv2.imshow(\"Grayscale Image\", gray_img)\n",
    "    cv2.imshow(\"Blur Image\", blur_img)\n",
    "    cv2.imshow(\"Edge Detection\", edges)\n",
    "    cv2.imshow(\"Sepia Image\", sepia_img)\n",
    "    cv2.imshow(\"Sharpen Image\", sharpen_img)\n",
    "\n",
    "    # Wait for any key press and close the windows\n",
    "    cv2.waitKey(0)\n",
    "    cv2.destroyAllWindows()\n",
    "\n",
    "# Call the function with the given image path\n",
    "apply_filters('IMG_20240519_101452.jpg')\n"
   ]
  },
  {
   "cell_type": "code",
   "execution_count": null,
   "id": "138f8fd5-f61f-4253-85d9-09513937adb5",
   "metadata": {},
   "outputs": [],
   "source": []
  }
 ],
 "metadata": {
  "kernelspec": {
   "display_name": "Python 3 (ipykernel)",
   "language": "python",
   "name": "python3"
  },
  "language_info": {
   "codemirror_mode": {
    "name": "ipython",
    "version": 3
   },
   "file_extension": ".py",
   "mimetype": "text/x-python",
   "name": "python",
   "nbconvert_exporter": "python",
   "pygments_lexer": "ipython3",
   "version": "3.12.4"
  }
 },
 "nbformat": 4,
 "nbformat_minor": 5
}
