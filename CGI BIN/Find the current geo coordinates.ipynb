{
 "cells": [
  {
   "cell_type": "code",
   "execution_count": 1,
   "id": "9a44746a-2f91-4308-8d0e-e2344b997f6a",
   "metadata": {},
   "outputs": [
    {
     "name": "stdout",
     "output_type": "stream",
     "text": [
      "Latitude: 23.2547\n",
      "Longitude: 77.4029\n",
      "Location: Bhopāl, Madhya Pradesh, IN\n"
     ]
    }
   ],
   "source": [
    "import geocoder\n",
    "\n",
    "# Get the current location based on the IP address\n",
    "g = geocoder.ip('me')\n",
    "\n",
    "# Get latitude and longitude\n",
    "latitude = g.latlng[0]\n",
    "longitude = g.latlng[1]\n",
    "\n",
    "# Get the full location (city, state, country, etc.)\n",
    "location = f\"{g.city}, {g.state}, {g.country}\"\n",
    "\n",
    "# Display results in Jupyter Notebook\n",
    "print(f\"Latitude: {latitude}\")\n",
    "print(f\"Longitude: {longitude}\")\n",
    "print(f\"Location: {location}\")\n"
   ]
  },
  {
   "cell_type": "code",
   "execution_count": null,
   "id": "aae134f9-0a59-45a6-af94-125f8dabfc72",
   "metadata": {},
   "outputs": [],
   "source": []
  }
 ],
 "metadata": {
  "kernelspec": {
   "display_name": "Python 3 (ipykernel)",
   "language": "python",
   "name": "python3"
  },
  "language_info": {
   "codemirror_mode": {
    "name": "ipython",
    "version": 3
   },
   "file_extension": ".py",
   "mimetype": "text/x-python",
   "name": "python",
   "nbconvert_exporter": "python",
   "pygments_lexer": "ipython3",
   "version": "3.12.4"
  }
 },
 "nbformat": 4,
 "nbformat_minor": 5
}
