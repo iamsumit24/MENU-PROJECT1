{
 "cells": [
  {
   "cell_type": "code",
   "execution_count": 1,
   "id": "59e837c5-a28c-4d4c-afdc-80e2438775bc",
   "metadata": {},
   "outputs": [
    {
     "name": "stdout",
     "output_type": "stream",
     "text": [
      "Result 1: https://growhackscale.com/glossary/search-queries\n",
      "Result 2: https://www.pageonepower.com/search-glossary/search-query\n",
      "Result 3: https://www.wordstream.com/blog/ws/2012/12/10/three-types-of-search-queries\n",
      "Result 4: https://support.google.com/websearch/answer/2466433?hl=en\n",
      "Result 5: https://linkwhisper.com/search-query/\n"
     ]
    }
   ],
   "source": [
    "from googlesearch import search\n",
    "\n",
    "# Define the search query\n",
    "query = \"your search query\"\n",
    "\n",
    "# Perform the search and get top 5 results\n",
    "results = search(query, num_results=5)\n",
    "\n",
    "# Print the top 5 results\n",
    "for index, result in enumerate(results, start=1):\n",
    "    print(f\"Result {index}: {result}\")\n"
   ]
  },
  {
   "cell_type": "code",
   "execution_count": null,
   "id": "89f04a7b-a90e-4634-ae73-8617a07ef6b0",
   "metadata": {},
   "outputs": [],
   "source": []
  }
 ],
 "metadata": {
  "kernelspec": {
   "display_name": "Python 3 (ipykernel)",
   "language": "python",
   "name": "python3"
  },
  "language_info": {
   "codemirror_mode": {
    "name": "ipython",
    "version": 3
   },
   "file_extension": ".py",
   "mimetype": "text/x-python",
   "name": "python",
   "nbconvert_exporter": "python",
   "pygments_lexer": "ipython3",
   "version": "3.12.4"
  }
 },
 "nbformat": 4,
 "nbformat_minor": 5
}
